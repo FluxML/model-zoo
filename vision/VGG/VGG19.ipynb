{
 "cells": [
  {
   "cell_type": "markdown",
   "metadata": {
    "toc": true
   },
   "source": [
    "<h1>Table of Contents<span class=\"tocSkip\"></span></h1>\n",
    "<div class=\"toc\"><ul class=\"toc-item\"></ul></div>"
   ]
  },
  {
   "cell_type": "code",
   "execution_count": 2,
   "metadata": {
    "ExecuteTime": {
     "start_time": "2020-08-11T15:19:23.051Z"
    },
    "tags": []
   },
   "outputs": [
    {
     "output_type": "stream",
     "name": "stderr",
     "text": "┌ Info: Precompiling Flux [587475ba-b771-5e3f-ad9e-33799f191a9c]\n└ @ Base loading.jl:1278\n┌ Info: Precompiling Metalhead [dbeba491-748d-5e0e-a39e-b530a07fa0cc]\n└ @ Base loading.jl:1278\n"
    }
   ],
   "source": [
    "using Flux, Statistics\n",
    "using Flux: onehotbatch, onecold, crossentropy, throttle\n",
    "using Base.Iterators: repeated, partition\n",
    "using Metalhead:trainimgs, CIFAR10\n",
    "using Images"
   ]
  },
  {
   "cell_type": "code",
   "execution_count": null,
   "metadata": {
    "ExecuteTime": {
     "start_time": "2020-08-11T15:19:23.691Z"
    }
   },
   "outputs": [],
   "source": [
    "using Flatten"
   ]
  },
  {
   "cell_type": "code",
   "execution_count": null,
   "metadata": {
    "ExecuteTime": {
     "start_time": "2020-08-11T15:19:23.874Z"
    }
   },
   "outputs": [],
   "source": [
    "getarray(X) = Float32.(permutedims(channelview(X), (2, 3, 1)))"
   ]
  },
  {
   "cell_type": "markdown",
   "metadata": {},
   "source": [
    "## CIFAR 10 dataset"
   ]
  },
  {
   "cell_type": "code",
   "execution_count": null,
   "metadata": {
    "ExecuteTime": {
     "start_time": "2020-08-11T15:19:24.076Z"
    },
    "scrolled": true
   },
   "outputs": [],
   "source": [
    "X = trainimgs(CIFAR10)\n",
    "imgs = [getarray(X[i].img) for i in 1:50000];\n",
    "labels = onehotbatch([X[i].ground_truth.class for i in 1:50000],1:10);\n",
    "train = gpu.([(cat(imgs[i]..., dims = 4), labels[:,i]) for i in partition(1:49000, 100)]);"
   ]
  },
  {
   "cell_type": "code",
   "execution_count": null,
   "metadata": {
    "ExecuteTime": {
     "start_time": "2020-08-11T15:19:24.610Z"
    }
   },
   "outputs": [],
   "source": [
    "valset = collect(49001:50000)\n",
    "valX = cat(imgs[valset]..., dims = 4) |> gpu\n",
    "valY = labels[:, valset] |> gpu"
   ]
  },
  {
   "cell_type": "markdown",
   "metadata": {},
   "source": [
    "## A block of Conv Relu Batchnorm based on input and output channels"
   ]
  },
  {
   "cell_type": "code",
   "execution_count": 6,
   "metadata": {
    "ExecuteTime": {
     "start_time": "2020-08-11T15:19:25.027Z"
    }
   },
   "outputs": [
    {
     "output_type": "execute_result",
     "data": {
      "text/plain": "conv_block (generic function with 1 method)"
     },
     "metadata": {},
     "execution_count": 6
    }
   ],
   "source": [
    "conv_block(in_channels, out_channels) = (\n",
    "    Conv((3,3), in_channels => out_channels, relu, pad = (1,1), stride = (1,1)), \n",
    "    BatchNorm(out_channels))"
   ]
  },
  {
   "cell_type": "markdown",
   "metadata": {},
   "source": [
    "## Two of the conv blocks which is common in VGG + Maxpool"
   ]
  },
  {
   "cell_type": "code",
   "execution_count": 7,
   "metadata": {},
   "outputs": [
    {
     "output_type": "execute_result",
     "data": {
      "text/plain": "double_conv (generic function with 1 method)"
     },
     "metadata": {},
     "execution_count": 7
    }
   ],
   "source": [
    "double_conv(in_channels, out_channels) = (\n",
    "    conv_block(in_channels, out_channels),\n",
    "    conv_block(out_channels, out_channels),\n",
    "    MaxPool((2,2)))"
   ]
  },
  {
   "cell_type": "markdown",
   "metadata": {},
   "source": [
    "## Modified with 2 conv blocks, 1 conv and max pool"
   ]
  },
  {
   "cell_type": "code",
   "execution_count": 8,
   "metadata": {},
   "outputs": [
    {
     "output_type": "execute_result",
     "data": {
      "text/plain": "triple_conv (generic function with 1 method)"
     },
     "metadata": {},
     "execution_count": 8
    }
   ],
   "source": [
    "triple_conv(in_channels, out_channels) = (\n",
    "    conv_block(in_channels, out_channels),\n",
    "    conv_block(out_channels, out_channels),\n",
    "    Conv((3,3), out_channels => out_channels, relu, pad = (1,1), stride = (1,1)),\n",
    "    MaxPool((2,2)))"
   ]
  },
  {
   "cell_type": "markdown",
   "metadata": {},
   "source": [
    "## VGG\n",
    "- ... operator will help us unroll the previously defined blocks"
   ]
  },
  {
   "cell_type": "code",
   "execution_count": 9,
   "metadata": {},
   "outputs": [
    {
     "output_type": "execute_result",
     "data": {
      "text/plain": "vgg19 (generic function with 1 method)"
     },
     "metadata": {},
     "execution_count": 9
    }
   ],
   "source": [
    "vgg19(initial_channels, num_classes) = Chain(\n",
    "    double_conv(initial_channels, 64)...,\n",
    "    double_conv(64, 128)...,\n",
    "    conv_block(128,256),\n",
    "    triple_conv(256,256)...,\n",
    "    conv_block(256,512),\n",
    "    triple_conv(512,512)...,\n",
    "    conv_block(512,512),\n",
    "    triple_conv(512,512)...,\n",
    "    x -> reshape(x, :, size(x, 4)),\n",
    "    Dense(512, 4096, relu),\n",
    "    Dropout(0.5),\n",
    "    Dense(4096, 4096, relu),\n",
    "    Dropout(0.5),\n",
    "    Dense(4096, num_classes),\n",
    "    softmax) |> gpu"
   ]
  },
  {
   "cell_type": "code",
   "execution_count": 10,
   "metadata": {
    "ExecuteTime": {
     "end_time": "2020-08-11T17:14:46.553000+04:00",
     "start_time": "2020-08-11T13:14:45.389Z"
    }
   },
   "outputs": [
    {
     "output_type": "execute_result",
     "data": {
      "text/plain": "Chain((Conv((3, 3), 3=>64, relu), BatchNorm(64)), (Conv((3, 3), 64=>64, relu), BatchNorm(64)), MaxPool((2, 2), pad = (0, 0, 0, 0), stride = (2, 2)), (Conv((3, 3), 64=>128, relu), BatchNorm(128)), (Conv((3, 3), 128=>128, relu), BatchNorm(128)), MaxPool((2, 2), pad = (0, 0, 0, 0), stride = (2, 2)), (Conv((3, 3), 128=>256, relu), BatchNorm(256)), (Conv((3, 3), 256=>256, relu), BatchNorm(256)), (Conv((3, 3), 256=>256, relu), BatchNorm(256)), Conv((3, 3), 256=>256, relu), MaxPool((2, 2), pad = (0, 0, 0, 0), stride = (2, 2)), (Conv((3, 3), 256=>512, relu), BatchNorm(512)), (Conv((3, 3), 512=>512, relu), BatchNorm(512)), (Conv((3, 3), 512=>512, relu), BatchNorm(512)), Conv((3, 3), 512=>512, relu), MaxPool((2, 2), pad = (0, 0, 0, 0), stride = (2, 2)), (Conv((3, 3), 512=>512, relu), BatchNorm(512)), (Conv((3, 3), 512=>512, relu), BatchNorm(512)), (Conv((3, 3), 512=>512, relu), BatchNorm(512)), Conv((3, 3), 512=>512, relu), MaxPool((2, 2), pad = (0, 0, 0, 0), stride = (2, 2)), #3, Dense(512, 4096, relu), Dropout(0.5), Dense(4096, 4096, relu), Dropout(0.5), Dense(4096, 10), softmax)"
     },
     "metadata": {},
     "execution_count": 10
    }
   ],
   "source": [
    "m = vgg19(3, 10)"
   ]
  },
  {
   "cell_type": "code",
   "execution_count": 17,
   "metadata": {
    "ExecuteTime": {
     "end_time": "2020-08-11T17:14:47.788000+04:00",
     "start_time": "2020-08-11T13:14:47.786Z"
    }
   },
   "outputs": [
    {
     "data": {
      "text/plain": [
       "loss (generic function with 1 method)"
      ]
     },
     "execution_count": 17,
     "metadata": {},
     "output_type": "execute_result"
    }
   ],
   "source": [
    "loss(x, y) = crossentropy(m(x), y)"
   ]
  },
  {
   "cell_type": "code",
   "execution_count": 19,
   "metadata": {
    "ExecuteTime": {
     "end_time": "2020-08-11T17:14:47.867000+04:00",
     "start_time": "2020-08-11T13:14:47.866Z"
    }
   },
   "outputs": [
    {
     "data": {
      "text/plain": [
       "accuracy (generic function with 1 method)"
      ]
     },
     "execution_count": 19,
     "metadata": {},
     "output_type": "execute_result"
    }
   ],
   "source": [
    "accuracy(x, y) = mean(onecold(m(x)) .== onecold(y))"
   ]
  },
  {
   "cell_type": "code",
   "execution_count": 20,
   "metadata": {
    "ExecuteTime": {
     "end_time": "2020-08-11T17:14:47.990000+04:00",
     "start_time": "2020-08-11T13:14:47.906Z"
    }
   },
   "outputs": [
    {
     "data": {
      "text/plain": [
       "(::Flux.var\"#throttled#20\"{Flux.var\"#throttled#16#21\"{Bool,Bool,var\"#11#12\",Int64}}) (generic function with 1 method)"
      ]
     },
     "execution_count": 20,
     "metadata": {},
     "output_type": "execute_result"
    }
   ],
   "source": [
    "evalcb = throttle(() -> @show(accuracy(valX, valY)), 10)"
   ]
  },
  {
   "cell_type": "code",
   "execution_count": 13,
   "metadata": {
    "ExecuteTime": {
     "end_time": "2020-08-11T17:13:48.860000+04:00",
     "start_time": "2020-08-11T13:13:19.436Z"
    }
   },
   "outputs": [
    {
     "data": {
      "text/plain": [
       "ADAM(0.001, (0.9, 0.999), IdDict{Any,Any}())"
      ]
     },
     "execution_count": 13,
     "metadata": {},
     "output_type": "execute_result"
    }
   ],
   "source": [
    "opt = ADAM()"
   ]
  },
  {
   "cell_type": "code",
   "execution_count": 21,
   "metadata": {
    "ExecuteTime": {
     "end_time": "2020-08-11T17:16:10.370000+04:00",
     "start_time": "2020-08-11T13:14:58.340Z"
    }
   },
   "outputs": [
    {
     "name": "stdout",
     "output_type": "stream",
     "text": [
      "accuracy(valX, valY) = 0.119\n"
     ]
    },
    {
     "ename": "LoadError",
     "evalue": "InterruptException:",
     "output_type": "error",
     "traceback": [
      "InterruptException:",
      "",
      "Stacktrace:",
      " [1] BatchNorm at /home/subhaditya/.julia/packages/Flux/Fj3bt/src/layers/normalise.jl:199 [inlined]",
      " [2] _pullback(::Zygote.Context, ::BatchNorm{typeof(identity),Array{Float32,1},Array{Float32,1},Float32}, ::Array{Float32,4}) at /home/subhaditya/.julia/packages/Zygote/1GXzF/src/compiler/interface2.jl:0",
      " [3] applychain at /home/subhaditya/.julia/packages/Flux/Fj3bt/src/layers/basic.jl:36 [inlined]",
      " [4] _pullback(::Zygote.Context, ::typeof(Flux.applychain), ::Tuple{BatchNorm{typeof(identity),Array{Float32,1},Array{Float32,1},Float32},MaxPool{2,4},Conv{2,2,typeof(relu),Array{Float32,4},Array{Float32,1}},BatchNorm{typeof(identity),Array{Float32,1},Array{Float32,1},Float32},Conv{2,2,typeof(relu),Array{Float32,4},Array{Float32,1}},BatchNorm{typeof(identity),Array{Float32,1},Array{Float32,1},Float32},MaxPool{2,4},Conv{2,2,typeof(relu),Array{Float32,4},Array{Float32,1}},BatchNorm{typeof(identity),Array{Float32,1},Array{Float32,1},Float32},Conv{2,2,typeof(relu),Array{Float32,4},Array{Float32,1}},BatchNorm{typeof(identity),Array{Float32,1},Array{Float32,1},Float32},Conv{2,2,typeof(relu),Array{Float32,4},Array{Float32,1}},BatchNorm{typeof(identity),Array{Float32,1},Array{Float32,1},Float32},Conv{2,2,typeof(relu),Array{Float32,4},Array{Float32,1}},MaxPool{2,4},Conv{2,2,typeof(relu),Array{Float32,4},Array{Float32,1}},BatchNorm{typeof(identity),Array{Float32,1},Array{Float32,1},Float32},Conv{2,2,typeof(relu),Array{Float32,4},Array{Float32,1}},BatchNorm{typeof(identity),Array{Float32,1},Array{Float32,1},Float32},Conv{2,2,typeof(relu),Array{Float32,4},Array{Float32,1}},BatchNorm{typeof(identity),Array{Float32,1},Array{Float32,1},Float32},Conv{2,2,typeof(relu),Array{Float32,4},Array{Float32,1}},MaxPool{2,4},Conv{2,2,typeof(relu),Array{Float32,4},Array{Float32,1}},BatchNorm{typeof(identity),Array{Float32,1},Array{Float32,1},Float32},Conv{2,2,typeof(relu),Array{Float32,4},Array{Float32,1}},BatchNorm{typeof(identity),Array{Float32,1},Array{Float32,1},Float32},Conv{2,2,typeof(relu),Array{Float32,4},Array{Float32,1}},BatchNorm{typeof(identity),Array{Float32,1},Array{Float32,1},Float32},Conv{2,2,typeof(relu),Array{Float32,4},Array{Float32,1}},MaxPool{2,4},var\"#7#8\",Dense{typeof(relu),Array{Float32,2},Array{Float32,1}},Dropout{Float64,Colon},Dense{typeof(relu),Array{Float32,2},Array{Float32,1}},Dropout{Float64,Colon},Dense{typeof(identity),Array{Float32,2},Array{Float32,1}},typeof(softmax)}, ::Array{Float32,4}) at /home/subhaditya/.julia/packages/Zygote/1GXzF/src/compiler/interface2.jl:0",
      " [5] applychain at /home/subhaditya/.julia/packages/Flux/Fj3bt/src/layers/basic.jl:36 [inlined]",
      " [6] _pullback(::Zygote.Context, ::typeof(Flux.applychain), ::Tuple{Conv{2,2,typeof(relu),Array{Float32,4},Array{Float32,1}},BatchNorm{typeof(identity),Array{Float32,1},Array{Float32,1},Float32},MaxPool{2,4},Conv{2,2,typeof(relu),Array{Float32,4},Array{Float32,1}},BatchNorm{typeof(identity),Array{Float32,1},Array{Float32,1},Float32},Conv{2,2,typeof(relu),Array{Float32,4},Array{Float32,1}},BatchNorm{typeof(identity),Array{Float32,1},Array{Float32,1},Float32},MaxPool{2,4},Conv{2,2,typeof(relu),Array{Float32,4},Array{Float32,1}},BatchNorm{typeof(identity),Array{Float32,1},Array{Float32,1},Float32},Conv{2,2,typeof(relu),Array{Float32,4},Array{Float32,1}},BatchNorm{typeof(identity),Array{Float32,1},Array{Float32,1},Float32},Conv{2,2,typeof(relu),Array{Float32,4},Array{Float32,1}},BatchNorm{typeof(identity),Array{Float32,1},Array{Float32,1},Float32},Conv{2,2,typeof(relu),Array{Float32,4},Array{Float32,1}},MaxPool{2,4},Conv{2,2,typeof(relu),Array{Float32,4},Array{Float32,1}},BatchNorm{typeof(identity),Array{Float32,1},Array{Float32,1},Float32},Conv{2,2,typeof(relu),Array{Float32,4},Array{Float32,1}},BatchNorm{typeof(identity),Array{Float32,1},Array{Float32,1},Float32},Conv{2,2,typeof(relu),Array{Float32,4},Array{Float32,1}},BatchNorm{typeof(identity),Array{Float32,1},Array{Float32,1},Float32},Conv{2,2,typeof(relu),Array{Float32,4},Array{Float32,1}},MaxPool{2,4},Conv{2,2,typeof(relu),Array{Float32,4},Array{Float32,1}},BatchNorm{typeof(identity),Array{Float32,1},Array{Float32,1},Float32},Conv{2,2,typeof(relu),Array{Float32,4},Array{Float32,1}},BatchNorm{typeof(identity),Array{Float32,1},Array{Float32,1},Float32},Conv{2,2,typeof(relu),Array{Float32,4},Array{Float32,1}},BatchNorm{typeof(identity),Array{Float32,1},Array{Float32,1},Float32},Conv{2,2,typeof(relu),Array{Float32,4},Array{Float32,1}},MaxPool{2,4},var\"#7#8\",Dense{typeof(relu),Array{Float32,2},Array{Float32,1}},Dropout{Float64,Colon},Dense{typeof(relu),Array{Float32,2},Array{Float32,1}},Dropout{Float64,Colon},Dense{typeof(identity),Array{Float32,2},Array{Float32,1}},typeof(softmax)}, ::Array{Float32,4}) at /home/subhaditya/.julia/packages/Zygote/1GXzF/src/compiler/interface2.jl:0",
      " [7] applychain at /home/subhaditya/.julia/packages/Flux/Fj3bt/src/layers/basic.jl:36 [inlined]",
      " [8] _pullback(::Zygote.Context, ::typeof(Flux.applychain), ::Tuple{BatchNorm{typeof(identity),Array{Float32,1},Array{Float32,1},Float32},Conv{2,2,typeof(relu),Array{Float32,4},Array{Float32,1}},BatchNorm{typeof(identity),Array{Float32,1},Array{Float32,1},Float32},MaxPool{2,4},Conv{2,2,typeof(relu),Array{Float32,4},Array{Float32,1}},BatchNorm{typeof(identity),Array{Float32,1},Array{Float32,1},Float32},Conv{2,2,typeof(relu),Array{Float32,4},Array{Float32,1}},BatchNorm{typeof(identity),Array{Float32,1},Array{Float32,1},Float32},MaxPool{2,4},Conv{2,2,typeof(relu),Array{Float32,4},Array{Float32,1}},BatchNorm{typeof(identity),Array{Float32,1},Array{Float32,1},Float32},Conv{2,2,typeof(relu),Array{Float32,4},Array{Float32,1}},BatchNorm{typeof(identity),Array{Float32,1},Array{Float32,1},Float32},Conv{2,2,typeof(relu),Array{Float32,4},Array{Float32,1}},BatchNorm{typeof(identity),Array{Float32,1},Array{Float32,1},Float32},Conv{2,2,typeof(relu),Array{Float32,4},Array{Float32,1}},MaxPool{2,4},Conv{2,2,typeof(relu),Array{Float32,4},Array{Float32,1}},BatchNorm{typeof(identity),Array{Float32,1},Array{Float32,1},Float32},Conv{2,2,typeof(relu),Array{Float32,4},Array{Float32,1}},BatchNorm{typeof(identity),Array{Float32,1},Array{Float32,1},Float32},Conv{2,2,typeof(relu),Array{Float32,4},Array{Float32,1}},BatchNorm{typeof(identity),Array{Float32,1},Array{Float32,1},Float32},Conv{2,2,typeof(relu),Array{Float32,4},Array{Float32,1}},MaxPool{2,4},Conv{2,2,typeof(relu),Array{Float32,4},Array{Float32,1}},BatchNorm{typeof(identity),Array{Float32,1},Array{Float32,1},Float32},Conv{2,2,typeof(relu),Array{Float32,4},Array{Float32,1}},BatchNorm{typeof(identity),Array{Float32,1},Array{Float32,1},Float32},Conv{2,2,typeof(relu),Array{Float32,4},Array{Float32,1}},BatchNorm{typeof(identity),Array{Float32,1},Array{Float32,1},Float32},Conv{2,2,typeof(relu),Array{Float32,4},Array{Float32,1}},MaxPool{2,4},var\"#7#8\",Dense{typeof(relu),Array{Float32,2},Array{Float32,1}},Dropout{Float64,Colon},Dense{typeof(relu),Array{Float32,2},Array{Float32,1}},Dropout{Float64,Colon},Dense{typeof(identity),Array{Float32,2},Array{Float32,1}},typeof(softmax)}, ::Array{Float32,4}) at /home/subhaditya/.julia/packages/Zygote/1GXzF/src/compiler/interface2.jl:0",
      " [9] applychain at /home/subhaditya/.julia/packages/Flux/Fj3bt/src/layers/basic.jl:36 [inlined]",
      " [10] _pullback(::Zygote.Context, ::typeof(Flux.applychain), ::Tuple{Conv{2,2,typeof(relu),Array{Float32,4},Array{Float32,1}},BatchNorm{typeof(identity),Array{Float32,1},Array{Float32,1},Float32},Conv{2,2,typeof(relu),Array{Float32,4},Array{Float32,1}},BatchNorm{typeof(identity),Array{Float32,1},Array{Float32,1},Float32},MaxPool{2,4},Conv{2,2,typeof(relu),Array{Float32,4},Array{Float32,1}},BatchNorm{typeof(identity),Array{Float32,1},Array{Float32,1},Float32},Conv{2,2,typeof(relu),Array{Float32,4},Array{Float32,1}},BatchNorm{typeof(identity),Array{Float32,1},Array{Float32,1},Float32},MaxPool{2,4},Conv{2,2,typeof(relu),Array{Float32,4},Array{Float32,1}},BatchNorm{typeof(identity),Array{Float32,1},Array{Float32,1},Float32},Conv{2,2,typeof(relu),Array{Float32,4},Array{Float32,1}},BatchNorm{typeof(identity),Array{Float32,1},Array{Float32,1},Float32},Conv{2,2,typeof(relu),Array{Float32,4},Array{Float32,1}},BatchNorm{typeof(identity),Array{Float32,1},Array{Float32,1},Float32},Conv{2,2,typeof(relu),Array{Float32,4},Array{Float32,1}},MaxPool{2,4},Conv{2,2,typeof(relu),Array{Float32,4},Array{Float32,1}},BatchNorm{typeof(identity),Array{Float32,1},Array{Float32,1},Float32},Conv{2,2,typeof(relu),Array{Float32,4},Array{Float32,1}},BatchNorm{typeof(identity),Array{Float32,1},Array{Float32,1},Float32},Conv{2,2,typeof(relu),Array{Float32,4},Array{Float32,1}},BatchNorm{typeof(identity),Array{Float32,1},Array{Float32,1},Float32},Conv{2,2,typeof(relu),Array{Float32,4},Array{Float32,1}},MaxPool{2,4},Conv{2,2,typeof(relu),Array{Float32,4},Array{Float32,1}},BatchNorm{typeof(identity),Array{Float32,1},Array{Float32,1},Float32},Conv{2,2,typeof(relu),Array{Float32,4},Array{Float32,1}},BatchNorm{typeof(identity),Array{Float32,1},Array{Float32,1},Float32},Conv{2,2,typeof(relu),Array{Float32,4},Array{Float32,1}},BatchNorm{typeof(identity),Array{Float32,1},Array{Float32,1},Float32},Conv{2,2,typeof(relu),Array{Float32,4},Array{Float32,1}},MaxPool{2,4},var\"#7#8\",Dense{typeof(relu),Array{Float32,2},Array{Float32,1}},Dropout{Float64,Colon},Dense{typeof(relu),Array{Float32,2},Array{Float32,1}},Dropout{Float64,Colon},Dense{typeof(identity),Array{Float32,2},Array{Float32,1}},typeof(softmax)}, ::Array{Float32,4}) at /home/subhaditya/.julia/packages/Zygote/1GXzF/src/compiler/interface2.jl:0",
      " [11] Chain at /home/subhaditya/.julia/packages/Flux/Fj3bt/src/layers/basic.jl:38 [inlined]",
      " [12] _pullback(::Zygote.Context, ::Chain{Tuple{Conv{2,2,typeof(relu),Array{Float32,4},Array{Float32,1}},BatchNorm{typeof(identity),Array{Float32,1},Array{Float32,1},Float32},Conv{2,2,typeof(relu),Array{Float32,4},Array{Float32,1}},BatchNorm{typeof(identity),Array{Float32,1},Array{Float32,1},Float32},MaxPool{2,4},Conv{2,2,typeof(relu),Array{Float32,4},Array{Float32,1}},BatchNorm{typeof(identity),Array{Float32,1},Array{Float32,1},Float32},Conv{2,2,typeof(relu),Array{Float32,4},Array{Float32,1}},BatchNorm{typeof(identity),Array{Float32,1},Array{Float32,1},Float32},MaxPool{2,4},Conv{2,2,typeof(relu),Array{Float32,4},Array{Float32,1}},BatchNorm{typeof(identity),Array{Float32,1},Array{Float32,1},Float32},Conv{2,2,typeof(relu),Array{Float32,4},Array{Float32,1}},BatchNorm{typeof(identity),Array{Float32,1},Array{Float32,1},Float32},Conv{2,2,typeof(relu),Array{Float32,4},Array{Float32,1}},BatchNorm{typeof(identity),Array{Float32,1},Array{Float32,1},Float32},Conv{2,2,typeof(relu),Array{Float32,4},Array{Float32,1}},MaxPool{2,4},Conv{2,2,typeof(relu),Array{Float32,4},Array{Float32,1}},BatchNorm{typeof(identity),Array{Float32,1},Array{Float32,1},Float32},Conv{2,2,typeof(relu),Array{Float32,4},Array{Float32,1}},BatchNorm{typeof(identity),Array{Float32,1},Array{Float32,1},Float32},Conv{2,2,typeof(relu),Array{Float32,4},Array{Float32,1}},BatchNorm{typeof(identity),Array{Float32,1},Array{Float32,1},Float32},Conv{2,2,typeof(relu),Array{Float32,4},Array{Float32,1}},MaxPool{2,4},Conv{2,2,typeof(relu),Array{Float32,4},Array{Float32,1}},BatchNorm{typeof(identity),Array{Float32,1},Array{Float32,1},Float32},Conv{2,2,typeof(relu),Array{Float32,4},Array{Float32,1}},BatchNorm{typeof(identity),Array{Float32,1},Array{Float32,1},Float32},Conv{2,2,typeof(relu),Array{Float32,4},Array{Float32,1}},BatchNorm{typeof(identity),Array{Float32,1},Array{Float32,1},Float32},Conv{2,2,typeof(relu),Array{Float32,4},Array{Float32,1}},MaxPool{2,4},var\"#7#8\",Dense{typeof(relu),Array{Float32,2},Array{Float32,1}},Dropout{Float64,Colon},Dense{typeof(relu),Array{Float32,2},Array{Float32,1}},Dropout{Float64,Colon},Dense{typeof(identity),Array{Float32,2},Array{Float32,1}},typeof(softmax)}}, ::Array{Float32,4}) at /home/subhaditya/.julia/packages/Zygote/1GXzF/src/compiler/interface2.jl:0",
      " [13] loss at ./In[17]:1 [inlined]",
      " [14] _pullback(::Zygote.Context, ::typeof(loss), ::Array{Float32,4}, ::Flux.OneHotMatrix{Array{Flux.OneHotVector,1}}) at /home/subhaditya/.julia/packages/Zygote/1GXzF/src/compiler/interface2.jl:0",
      " [15] adjoint at /home/subhaditya/.julia/packages/Zygote/1GXzF/src/lib/lib.jl:179 [inlined]",
      " [16] _pullback at /home/subhaditya/.julia/packages/ZygoteRules/6nssF/src/adjoint.jl:47 [inlined]",
      " [17] #17 at /home/subhaditya/.julia/packages/Flux/Fj3bt/src/optimise/train.jl:89 [inlined]",
      " [18] _pullback(::Zygote.Context, ::Flux.Optimise.var\"#17#25\"{typeof(loss),Tuple{Array{Float32,4},Flux.OneHotMatrix{Array{Flux.OneHotVector,1}}}}) at /home/subhaditya/.julia/packages/Zygote/1GXzF/src/compiler/interface2.jl:0",
      " [19] pullback(::Function, ::Zygote.Params) at /home/subhaditya/.julia/packages/Zygote/1GXzF/src/compiler/interface.jl:172",
      " [20] gradient(::Function, ::Zygote.Params) at /home/subhaditya/.julia/packages/Zygote/1GXzF/src/compiler/interface.jl:53",
      " [21] macro expansion at /home/subhaditya/.julia/packages/Flux/Fj3bt/src/optimise/train.jl:88 [inlined]",
      " [22] macro expansion at /home/subhaditya/.julia/packages/Juno/hEPx8/src/progress.jl:134 [inlined]",
      " [23] train!(::typeof(loss), ::Zygote.Params, ::Array{Tuple{Array{Float32,4},Flux.OneHotMatrix{Array{Flux.OneHotVector,1}}},1}, ::ADAM; cb::Flux.var\"#throttled#20\"{Flux.var\"#throttled#16#21\"{Bool,Bool,var\"#11#12\",Int64}}) at /home/subhaditya/.julia/packages/Flux/Fj3bt/src/optimise/train.jl:81",
      " [24] top-level scope at In[21]:1",
      " [25] include_string(::Function, ::Module, ::String, ::String) at ./loading.jl:1091"
     ]
    }
   ],
   "source": [
    "Flux.train!(loss, params(m), train, opt, cb = evalcb)"
   ]
  },
  {
   "cell_type": "code",
   "execution_count": null,
   "metadata": {},
   "outputs": [],
   "source": []
  }
 ],
 "metadata": {
  "kernelspec": {
   "display_name": "Julia 1.5.0",
   "language": "julia",
   "name": "julia-1.5"
  },
  "language_info": {
   "file_extension": ".jl",
   "mimetype": "application/julia",
   "name": "julia",
   "version": "1.5.0"
  },
  "toc": {
   "base_numbering": 1,
   "nav_menu": {},
   "number_sections": true,
   "sideBar": false,
   "skip_h1_title": false,
   "title_cell": "Table of Contents",
   "title_sidebar": "Contents",
   "toc_cell": true,
   "toc_position": {},
   "toc_section_display": true,
   "toc_window_display": false
  },
  "varInspector": {
   "cols": {
    "lenName": 16,
    "lenType": 16,
    "lenVar": 40
   },
   "kernels_config": {
    "python": {
     "delete_cmd_postfix": "",
     "delete_cmd_prefix": "del ",
     "library": "var_list.py",
     "varRefreshCmd": "print(var_dic_list())"
    },
    "r": {
     "delete_cmd_postfix": ") ",
     "delete_cmd_prefix": "rm(",
     "library": "var_list.r",
     "varRefreshCmd": "cat(var_dic_list()) "
    }
   },
   "types_to_exclude": [
    "module",
    "function",
    "builtin_function_or_method",
    "instance",
    "_Feature"
   ],
   "window_display": false
  }
 },
 "nbformat": 4,
 "nbformat_minor": 4
}