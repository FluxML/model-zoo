{
 "metadata": {
  "language_info": {
   "codemirror_mode": {
    "name": "ipython",
    "version": 3
   },
   "file_extension": ".py",
   "mimetype": "text/x-python",
   "name": "python",
   "nbconvert_exporter": "python",
   "pygments_lexer": "ipython3",
   "version": "3.8.2-final"
  },
  "orig_nbformat": 2,
  "kernelspec": {
   "name": "julia-1.5",
   "display_name": "Julia 1.5.0"
  }
 },
 "nbformat": 4,
 "nbformat_minor": 2,
 "cells": [
  {
   "cell_type": "code",
   "execution_count": 3,
   "metadata": {},
   "outputs": [],
   "source": [
    "using Flux, Flux.Data.MNIST, Statistics, Flux.Optimise\n",
    "using Flux: throttle, params\n",
    "using Images\n"
   ]
  },
  {
   "cell_type": "markdown",
   "metadata": {},
   "source": [
    "## Initializing MNIST"
   ]
  },
  {
   "cell_type": "code",
   "execution_count": 4,
   "metadata": {
    "tags": []
   },
   "outputs": [
    {
     "output_type": "stream",
     "name": "stderr",
     "text": "┌ Info: Downloading MNIST dataset\n└ @ Flux.Data.MNIST /home/subhaditya/.julia/packages/Flux/Fj3bt/src/data/mnist.jl:24\n┌ Info: Downloading MNIST dataset\n└ @ Flux.Data.MNIST /home/subhaditya/.julia/packages/Flux/Fj3bt/src/data/mnist.jl:24\n┌ Info: Downloading MNIST dataset\n└ @ Flux.Data.MNIST /home/subhaditya/.julia/packages/Flux/Fj3bt/src/data/mnist.jl:24\n┌ Info: Downloading MNIST dataset\n└ @ Flux.Data.MNIST /home/subhaditya/.julia/packages/Flux/Fj3bt/src/data/mnist.jl:24\n"
    },
    {
     "output_type": "execute_result",
     "data": {
      "text/plain": "784×60000 BitArray{2}:\n 0  0  0  0  0  0  0  0  0  0  0  0  0  …  0  0  0  0  0  0  0  0  0  0  0  0\n 0  0  0  0  0  0  0  0  0  0  0  0  0     0  0  0  0  0  0  0  0  0  0  0  0\n 0  0  0  0  0  0  0  0  0  0  0  0  0     0  0  0  0  0  0  0  0  0  0  0  0\n 0  0  0  0  0  0  0  0  0  0  0  0  0     0  0  0  0  0  0  0  0  0  0  0  0\n 0  0  0  0  0  0  0  0  0  0  0  0  0     0  0  0  0  0  0  0  0  0  0  0  0\n 0  0  0  0  0  0  0  0  0  0  0  0  0  …  0  0  0  0  0  0  0  0  0  0  0  0\n 0  0  0  0  0  0  0  0  0  0  0  0  0     0  0  0  0  0  0  0  0  0  0  0  0\n 0  0  0  0  0  0  0  0  0  0  0  0  0     0  0  0  0  0  0  0  0  0  0  0  0\n 0  0  0  0  0  0  0  0  0  0  0  0  0     0  0  0  0  0  0  0  0  0  0  0  0\n 0  0  0  0  0  0  0  0  0  0  0  0  0     0  0  0  0  0  0  0  0  0  0  0  0\n 0  0  0  0  0  0  0  0  0  0  0  0  0  …  0  0  0  0  0  0  0  0  0  0  0  0\n 0  0  0  0  0  0  0  0  0  0  0  0  0     0  0  0  0  0  0  0  0  0  0  0  0\n 0  0  0  0  0  0  0  0  0  0  0  0  0     0  0  0  0  0  0  0  0  0  0  0  0\n ⋮              ⋮              ⋮        ⋱        ⋮              ⋮           \n 0  0  0  0  0  0  0  0  0  0  0  0  0     0  0  0  0  0  0  0  0  0  0  0  0\n 0  0  0  0  0  0  0  0  0  0  0  0  0     0  0  0  0  0  0  0  0  0  0  0  0\n 0  0  0  0  0  0  0  0  0  0  0  0  0     0  0  0  0  0  0  0  0  0  0  0  0\n 0  0  0  0  0  0  0  0  0  0  0  0  0  …  0  0  0  0  0  0  0  0  0  0  0  0\n 0  0  0  0  0  0  0  0  0  0  0  0  0     0  0  0  0  0  0  0  0  0  0  0  0\n 0  0  0  0  0  0  0  0  0  0  0  0  0     0  0  0  0  0  0  0  0  0  0  0  0\n 0  0  0  0  0  0  0  0  0  0  0  0  0     0  0  0  0  0  0  0  0  0  0  0  0\n 0  0  0  0  0  0  0  0  0  0  0  0  0     0  0  0  0  0  0  0  0  0  0  0  0\n 0  0  0  0  0  0  0  0  0  0  0  0  0  …  0  0  0  0  0  0  0  0  0  0  0  0\n 0  0  0  0  0  0  0  0  0  0  0  0  0     0  0  0  0  0  0  0  0  0  0  0  0\n 0  0  0  0  0  0  0  0  0  0  0  0  0     0  0  0  0  0  0  0  0  0  0  0  0\n 0  0  0  0  0  0  0  0  0  0  0  0  0     0  0  0  0  0  0  0  0  0  0  0  0"
     },
     "metadata": {},
     "execution_count": 4
    }
   ],
   "source": [
    "X = (float.(hcat(vec.(MNIST.images())...)) .> 0.5) "
   ]
  },
  {
   "cell_type": "code",
   "execution_count": 5,
   "metadata": {},
   "outputs": [
    {
     "output_type": "execute_result",
     "data": {
      "text/plain": "(60000, 100)"
     },
     "metadata": {},
     "execution_count": 5
    }
   ],
   "source": [
    "N, M = size(X, 2), 100"
   ]
  },
  {
   "cell_type": "code",
   "execution_count": 6,
   "metadata": {},
   "outputs": [
    {
     "output_type": "execute_result",
     "data": {
      "text/plain": "600-element Array{BitArray{2},1}:\n [0 0 … 0 0; 0 0 … 0 0; … ; 0 0 … 0 0; 0 0 … 0 0]\n [0 0 … 0 0; 0 0 … 0 0; … ; 0 0 … 0 0; 0 0 … 0 0]\n [0 0 … 0 0; 0 0 … 0 0; … ; 0 0 … 0 0; 0 0 … 0 0]\n [0 0 … 0 0; 0 0 … 0 0; … ; 0 0 … 0 0; 0 0 … 0 0]\n [0 0 … 0 0; 0 0 … 0 0; … ; 0 0 … 0 0; 0 0 … 0 0]\n [0 0 … 0 0; 0 0 … 0 0; … ; 0 0 … 0 0; 0 0 … 0 0]\n [0 0 … 0 0; 0 0 … 0 0; … ; 0 0 … 0 0; 0 0 … 0 0]\n [0 0 … 0 0; 0 0 … 0 0; … ; 0 0 … 0 0; 0 0 … 0 0]\n [0 0 … 0 0; 0 0 … 0 0; … ; 0 0 … 0 0; 0 0 … 0 0]\n [0 0 … 0 0; 0 0 … 0 0; … ; 0 0 … 0 0; 0 0 … 0 0]\n [0 0 … 0 0; 0 0 … 0 0; … ; 0 0 … 0 0; 0 0 … 0 0]\n [0 0 … 0 0; 0 0 … 0 0; … ; 0 0 … 0 0; 0 0 … 0 0]\n [0 0 … 0 0; 0 0 … 0 0; … ; 0 0 … 0 0; 0 0 … 0 0]\n ⋮\n [0 0 … 0 0; 0 0 … 0 0; … ; 0 0 … 0 0; 0 0 … 0 0]\n [0 0 … 0 0; 0 0 … 0 0; … ; 0 0 … 0 0; 0 0 … 0 0]\n [0 0 … 0 0; 0 0 … 0 0; … ; 0 0 … 0 0; 0 0 … 0 0]\n [0 0 … 0 0; 0 0 … 0 0; … ; 0 0 … 0 0; 0 0 … 0 0]\n [0 0 … 0 0; 0 0 … 0 0; … ; 0 0 … 0 0; 0 0 … 0 0]\n [0 0 … 0 0; 0 0 … 0 0; … ; 0 0 … 0 0; 0 0 … 0 0]\n [0 0 … 0 0; 0 0 … 0 0; … ; 0 0 … 0 0; 0 0 … 0 0]\n [0 0 … 0 0; 0 0 … 0 0; … ; 0 0 … 0 0; 0 0 … 0 0]\n [0 0 … 0 0; 0 0 … 0 0; … ; 0 0 … 0 0; 0 0 … 0 0]\n [0 0 … 0 0; 0 0 … 0 0; … ; 0 0 … 0 0; 0 0 … 0 0]\n [0 0 … 0 0; 0 0 … 0 0; … ; 0 0 … 0 0; 0 0 … 0 0]\n [0 0 … 0 0; 0 0 … 0 0; … ; 0 0 … 0 0; 0 0 … 0 0]"
     },
     "metadata": {},
     "execution_count": 6
    }
   ],
   "source": [
    "data = [X[:,i] for i in Iterators.partition(1:N,M)]"
   ]
  },
  {
   "cell_type": "markdown",
   "metadata": {},
   "source": [
    "# Defining our network and parameters"
   ]
  },
  {
   "cell_type": "code",
   "execution_count": 7,
   "metadata": {},
   "outputs": [
    {
     "output_type": "execute_result",
     "data": {
      "text/plain": "(Dense(784, 500, tanh), Dense(500, 5), Dense(500, 5))"
     },
     "metadata": {},
     "execution_count": 7
    }
   ],
   "source": [
    "Dz, Dh = 5, 500\n",
    "A, μ, logσ = Dense(28^2, Dh, tanh) , Dense(Dh, Dz) , Dense(Dh, Dz) "
   ]
  },
  {
   "cell_type": "code",
   "execution_count": 8,
   "metadata": {},
   "outputs": [
    {
     "output_type": "execute_result",
     "data": {
      "text/plain": "g (generic function with 1 method)"
     },
     "metadata": {},
     "execution_count": 8
    }
   ],
   "source": [
    "g(X) = (h = A(X); (μ(h), logσ(h)))"
   ]
  },
  {
   "cell_type": "markdown",
   "metadata": {},
   "source": [
    "# Sample latent space"
   ]
  },
  {
   "cell_type": "code",
   "execution_count": 9,
   "metadata": {},
   "outputs": [
    {
     "output_type": "execute_result",
     "data": {
      "text/plain": "sample_z (generic function with 1 method)"
     },
     "metadata": {},
     "execution_count": 9
    }
   ],
   "source": [
    "function sample_z(μ, logσ)\n",
    "    eps = randn(Float32, size(μ)) \n",
    "    return μ + exp.(logσ) .* eps\n",
    "end\n"
   ]
  },
  {
   "cell_type": "code",
   "execution_count": 10,
   "metadata": {},
   "outputs": [
    {
     "output_type": "execute_result",
     "data": {
      "text/plain": "Chain(Dense(5, 500, tanh), Dense(500, 784, σ))"
     },
     "metadata": {},
     "execution_count": 10
    }
   ],
   "source": [
    "f = Chain(Dense(Dz, Dh, tanh), Dense(Dh, 28^2, σ))\n"
   ]
  },
  {
   "cell_type": "markdown",
   "metadata": {},
   "source": [
    "# KL divergence and loss functions we need\n"
   ]
  },
  {
   "cell_type": "code",
   "execution_count": 11,
   "metadata": {},
   "outputs": [
    {
     "output_type": "execute_result",
     "data": {
      "text/plain": "kl_q_p (generic function with 1 method)"
     },
     "metadata": {},
     "execution_count": 11
    }
   ],
   "source": [
    "kl_q_p(μ, logσ) = 0.5f0 * sum(exp.(2f0 .* logσ) + μ.^2 .- 1f0 .+ logσ.^2)"
   ]
  },
  {
   "cell_type": "code",
   "execution_count": 12,
   "metadata": {},
   "outputs": [
    {
     "output_type": "execute_result",
     "data": {
      "text/plain": "logp_x_z (generic function with 1 method)"
     },
     "metadata": {},
     "execution_count": 12
    }
   ],
   "source": [
    "function logp_x_z(x, z)\n",
    "    p = f(z)\n",
    "    ll = x .* log.(p .+ eps(Float32)) + (1f0 .- x) .* log.(1 .- p .+ eps(Float32))\n",
    "    return sum(ll)\n",
    "end"
   ]
  },
  {
   "cell_type": "code",
   "execution_count": 13,
   "metadata": {},
   "outputs": [
    {
     "output_type": "execute_result",
     "data": {
      "text/plain": "L̄ (generic function with 1 method)"
     },
     "metadata": {},
     "execution_count": 13
    }
   ],
   "source": [
    "L̄(X) = ((μ̂, logσ̂) = g(X); (logp_x_z(X, sample_z(μ̂, logσ̂)) - kl_q_p(μ̂, logσ̂)) * 1 // M)"
   ]
  },
  {
   "cell_type": "code",
   "execution_count": 14,
   "metadata": {},
   "outputs": [
    {
     "output_type": "execute_result",
     "data": {
      "text/plain": "loss (generic function with 1 method)"
     },
     "metadata": {},
     "execution_count": 14
    }
   ],
   "source": [
    "loss(X) = -L̄(X) + 0.01f0 * sum(x->sum(x.^2), params(f))"
   ]
  },
  {
   "cell_type": "markdown",
   "metadata": {},
   "source": [
    "# Generate a sample\n"
   ]
  },
  {
   "cell_type": "code",
   "execution_count": 15,
   "metadata": {},
   "outputs": [
    {
     "output_type": "execute_result",
     "data": {
      "text/plain": "modelsample (generic function with 1 method)"
     },
     "metadata": {},
     "execution_count": 15
    }
   ],
   "source": [
    "function modelsample()  \n",
    "  ϕ = zeros(Float32, Dz)\n",
    "  p = f(sample_z(ϕ, ϕ))\n",
    "  u = rand(Float32, size(p))\n",
    "  return (u .< p) \n",
    "end"
   ]
  },
  {
   "cell_type": "markdown",
   "metadata": {},
   "source": [
    "# Train"
   ]
  },
  {
   "cell_type": "code",
   "execution_count": 16,
   "metadata": {},
   "outputs": [
    {
     "output_type": "execute_result",
     "data": {
      "text/plain": "Params([Float32[-0.04325612 -0.04432942 … 0.024764992 0.0025093316; -0.06396034 0.0077259494 … -0.006176046 0.016506964; … ; 8.820455f-5 0.064784825 … 0.060753915 0.023969032; 0.009093919 0.05117704 … -0.0029312368 -0.05824799], Float32[0.0, 0.0, 0.0, 0.0, 0.0, 0.0, 0.0, 0.0, 0.0, 0.0  …  0.0, 0.0, 0.0, 0.0, 0.0, 0.0, 0.0, 0.0, 0.0, 0.0], Float32[-0.00041203704 -0.0528699 … -0.03941686 0.06000133; 0.05124626 -0.06446281 … 0.0718011 -0.04769289; … ; -0.024800759 0.068491444 … 0.101761356 -0.07139413; 0.033019643 0.010317117 … -0.019728636 0.05537383], Float32[0.0, 0.0, 0.0, 0.0, 0.0], Float32[0.10620293 0.023587517 … 0.08458545 -0.020418482; -0.038067207 0.010741732 … 0.028195212 0.012534944; … ; -0.014529563 -0.087974004 … 0.028156698 0.045931697; -0.102924176 -0.032970604 … 0.029116375 0.035560943], Float32[0.0, 0.0, 0.0, 0.0, 0.0], Float32[-0.09521466 -0.08829451 … 0.020895256 0.0067901523; 0.108671494 -0.009676283 … 0.07440227 -0.0760235; … ; -0.0069366717 -0.011213775 … 0.06583009 0.10229878; 0.045926213 0.07811487 … 0.07023905 -0.10748437], Float32[0.0, 0.0, 0.0, 0.0, 0.0, 0.0, 0.0, 0.0, 0.0, 0.0  …  0.0, 0.0, 0.0, 0.0, 0.0, 0.0, 0.0, 0.0, 0.0, 0.0], Float32[0.053993654 -0.0059612063 … 0.009265504 -0.062752746; 0.0022692461 -0.03440574 … 0.05393037 0.04595501; … ; 0.004562907 -0.043307588 … -0.004600816 0.041631848; -0.066888765 -0.032768432 … -0.036583245 0.010277884], Float32[0.0, 0.0, 0.0, 0.0, 0.0, 0.0, 0.0, 0.0, 0.0, 0.0  …  0.0, 0.0, 0.0, 0.0, 0.0, 0.0, 0.0, 0.0, 0.0, 0.0]])"
     },
     "metadata": {},
     "execution_count": 16
    }
   ],
   "source": [
    "evalcb = throttle(() -> @show(-L̄(X[:, rand(1:N, M)])), 10)\n",
    "opt = ADAM()\n",
    "ps = params(A, μ, logσ, f)\n"
   ]
  },
  {
   "cell_type": "code",
   "execution_count": 17,
   "metadata": {
    "tags": []
   },
   "outputs": [
    {
     "output_type": "stream",
     "name": "stderr",
     "text": "┌ Info: Epoch 1\n└ @ Main In[17]:2\n-(L̄(X[:, rand(1:N, M)])) = 544.0159f0\n-(L̄(X[:, rand(1:N, M)])) = 188.8044f0\n-(L̄(X[:, rand(1:N, M)])) = 163.6948f0\n-(L̄(X[:, rand(1:N, M)])) = 170.76443f0\n-(L̄(X[:, rand(1:N, M)])) = 159.46655f0\n-(L̄(X[:, rand(1:N, M)])) = 168.12997f0\n-(L̄(X[:, rand(1:N, M)])) = 160.12689f0\n-(L̄(X[:, rand(1:N, M)])) = 165.35117f0\n-(L̄(X[:, rand(1:N, M)])) = 158.74713f0\n-(L̄(X[:, rand(1:N, M)])) = 156.7229f0\n┌ Info: Epoch 2\n└ @ Main In[17]:2\n-(L̄(X[:, rand(1:N, M)])) = 163.61983f0\n-(L̄(X[:, rand(1:N, M)])) = 161.33939f0\n-(L̄(X[:, rand(1:N, M)])) = 158.21996f0\n-(L̄(X[:, rand(1:N, M)])) = 151.2085f0\n-(L̄(X[:, rand(1:N, M)])) = 146.22623f0\n-(L̄(X[:, rand(1:N, M)])) = 150.20674f0\n-(L̄(X[:, rand(1:N, M)])) = 156.2229f0\n-(L̄(X[:, rand(1:N, M)])) = 143.83652f0\n┌ Info: Epoch 3\n└ @ Main In[17]:2\n-(L̄(X[:, rand(1:N, M)])) = 142.15207f0\n-(L̄(X[:, rand(1:N, M)])) = 142.52904f0\n-(L̄(X[:, rand(1:N, M)])) = 150.46121f0\n-(L̄(X[:, rand(1:N, M)])) = 148.28822f0\n-(L̄(X[:, rand(1:N, M)])) = 143.29193f0\n-(L̄(X[:, rand(1:N, M)])) = 139.69719f0\n-(L̄(X[:, rand(1:N, M)])) = 135.97562f0\n-(L̄(X[:, rand(1:N, M)])) = 142.71591f0\n-(L̄(X[:, rand(1:N, M)])) = 140.0783f0\n┌ Info: Epoch 4\n└ @ Main In[17]:2\n-(L̄(X[:, rand(1:N, M)])) = 139.62978f0\n-(L̄(X[:, rand(1:N, M)])) = 140.09804f0\n-(L̄(X[:, rand(1:N, M)])) = 140.85718f0\n-(L̄(X[:, rand(1:N, M)])) = 143.96771f0\n-(L̄(X[:, rand(1:N, M)])) = 139.85089f0\n-(L̄(X[:, rand(1:N, M)])) = 141.64473f0\n-(L̄(X[:, rand(1:N, M)])) = 136.50128f0\n-(L̄(X[:, rand(1:N, M)])) = 131.97739f0\n-(L̄(X[:, rand(1:N, M)])) = 129.70644f0\n┌ Info: Epoch 5\n└ @ Main In[17]:2\n-(L̄(X[:, rand(1:N, M)])) = 137.03206f0\n-(L̄(X[:, rand(1:N, M)])) = 142.41936f0\n-(L̄(X[:, rand(1:N, M)])) = 135.6215f0\n-(L̄(X[:, rand(1:N, M)])) = 139.77963f0\n-(L̄(X[:, rand(1:N, M)])) = 137.5791f0\n-(L̄(X[:, rand(1:N, M)])) = 129.35582f0\n-(L̄(X[:, rand(1:N, M)])) = 131.18831f0\n-(L̄(X[:, rand(1:N, M)])) = 128.95619f0\n┌ Info: Epoch 6\n└ @ Main In[17]:2\n-(L̄(X[:, rand(1:N, M)])) = 135.28596f0\n-(L̄(X[:, rand(1:N, M)])) = 133.43881f0\n-(L̄(X[:, rand(1:N, M)])) = 131.18222f0\n-(L̄(X[:, rand(1:N, M)])) = 130.74548f0\n-(L̄(X[:, rand(1:N, M)])) = 131.1535f0\n-(L̄(X[:, rand(1:N, M)])) = 136.14282f0\n-(L̄(X[:, rand(1:N, M)])) = 141.14491f0\n-(L̄(X[:, rand(1:N, M)])) = 130.80042f0\n-(L̄(X[:, rand(1:N, M)])) = 136.48291f0\n┌ Info: Epoch 7\n└ @ Main In[17]:2\n-(L̄(X[:, rand(1:N, M)])) = 129.31302f0\n-(L̄(X[:, rand(1:N, M)])) = 139.49428f0\n-(L̄(X[:, rand(1:N, M)])) = 130.39726f0\n-(L̄(X[:, rand(1:N, M)])) = 135.66624f0\n-(L̄(X[:, rand(1:N, M)])) = 139.52274f0\n-(L̄(X[:, rand(1:N, M)])) = 129.02013f0\n-(L̄(X[:, rand(1:N, M)])) = 132.18924f0\n-(L̄(X[:, rand(1:N, M)])) = 137.77753f0\n-(L̄(X[:, rand(1:N, M)])) = 137.5309f0\n┌ Info: Epoch 8\n└ @ Main In[17]:2\n-(L̄(X[:, rand(1:N, M)])) = 130.02092f0\n-(L̄(X[:, rand(1:N, M)])) = 127.53695f0\n-(L̄(X[:, rand(1:N, M)])) = 134.24876f0\n-(L̄(X[:, rand(1:N, M)])) = 126.24858f0\n-(L̄(X[:, rand(1:N, M)])) = 134.23547f0\n-(L̄(X[:, rand(1:N, M)])) = 128.36131f0\n-(L̄(X[:, rand(1:N, M)])) = 122.926f0\n┌ Info: Epoch 9\n└ @ Main In[17]:2\n-(L̄(X[:, rand(1:N, M)])) = 128.51785f0\n-(L̄(X[:, rand(1:N, M)])) = 130.70897f0\n-(L̄(X[:, rand(1:N, M)])) = 126.51974f0\n-(L̄(X[:, rand(1:N, M)])) = 126.55835f0\n-(L̄(X[:, rand(1:N, M)])) = 133.80797f0\n-(L̄(X[:, rand(1:N, M)])) = 137.55035f0\n-(L̄(X[:, rand(1:N, M)])) = 129.17249f0\n-(L̄(X[:, rand(1:N, M)])) = 133.11034f0\n-(L̄(X[:, rand(1:N, M)])) = 122.74662f0\n┌ Info: Epoch 10\n└ @ Main In[17]:2\n-(L̄(X[:, rand(1:N, M)])) = 129.06119f0\n-(L̄(X[:, rand(1:N, M)])) = 134.97176f0\n-(L̄(X[:, rand(1:N, M)])) = 125.834236f0\n-(L̄(X[:, rand(1:N, M)])) = 127.66348f0\n-(L̄(X[:, rand(1:N, M)])) = 125.22201f0\n-(L̄(X[:, rand(1:N, M)])) = 130.18465f0\n-(L̄(X[:, rand(1:N, M)])) = 128.43158f0\n-(L̄(X[:, rand(1:N, M)])) = 125.08065f0\n"
    }
   ],
   "source": [
    "for i = 1:10\n",
    "  @info \"Epoch $i\"\n",
    "  Flux.train!(loss, ps, zip(data), opt, cb=evalcb)\n",
    "end"
   ]
  },
  {
   "cell_type": "markdown",
   "metadata": {},
   "source": [
    "# Outputs"
   ]
  },
  {
   "cell_type": "code",
   "execution_count": 21,
   "metadata": {},
   "outputs": [
    {
     "output_type": "execute_result",
     "data": {
      "text/plain": "28×280 Array{Gray{Bool},2} with eltype Gray{Bool}:\n Gray{Bool}(false)  Gray{Bool}(false)  …  Gray{Bool}(false)\n Gray{Bool}(false)  Gray{Bool}(false)     Gray{Bool}(false)\n Gray{Bool}(false)  Gray{Bool}(false)     Gray{Bool}(false)\n Gray{Bool}(false)  Gray{Bool}(false)     Gray{Bool}(false)\n Gray{Bool}(false)  Gray{Bool}(false)     Gray{Bool}(false)\n Gray{Bool}(false)  Gray{Bool}(false)  …  Gray{Bool}(false)\n Gray{Bool}(false)  Gray{Bool}(false)     Gray{Bool}(false)\n Gray{Bool}(false)  Gray{Bool}(false)     Gray{Bool}(false)\n Gray{Bool}(false)  Gray{Bool}(false)     Gray{Bool}(false)\n Gray{Bool}(false)  Gray{Bool}(false)     Gray{Bool}(false)\n Gray{Bool}(false)  Gray{Bool}(false)  …  Gray{Bool}(false)\n Gray{Bool}(false)  Gray{Bool}(false)     Gray{Bool}(false)\n Gray{Bool}(false)  Gray{Bool}(false)     Gray{Bool}(false)\n ⋮                                     ⋱  \n Gray{Bool}(false)  Gray{Bool}(false)     Gray{Bool}(false)\n Gray{Bool}(false)  Gray{Bool}(false)     Gray{Bool}(false)\n Gray{Bool}(false)  Gray{Bool}(false)     Gray{Bool}(false)\n Gray{Bool}(false)  Gray{Bool}(false)     Gray{Bool}(false)\n Gray{Bool}(false)  Gray{Bool}(false)  …  Gray{Bool}(false)\n Gray{Bool}(false)  Gray{Bool}(false)     Gray{Bool}(false)\n Gray{Bool}(false)  Gray{Bool}(false)     Gray{Bool}(false)\n Gray{Bool}(false)  Gray{Bool}(false)     Gray{Bool}(false)\n Gray{Bool}(false)  Gray{Bool}(false)     Gray{Bool}(false)\n Gray{Bool}(false)  Gray{Bool}(false)  …  Gray{Bool}(false)\n Gray{Bool}(false)  Gray{Bool}(false)     Gray{Bool}(false)\n Gray{Bool}(false)  Gray{Bool}(false)     Gray{Bool}(false)",
      "image/png": "[encoded data removed]"
     },
     "metadata": {},
     "execution_count": 21
    }
   ],
   "source": [
    "img(x) = Gray.(reshape(x, 28, 28))\n",
    "sample = hcat(img.([modelsample() for i = 1:10])...)"
   ]
  },
  {
   "cell_type": "code",
   "execution_count": 22,
   "metadata": {},
   "outputs": [
    {
     "output_type": "execute_result",
     "data": {
      "text/plain": "28×280 Array{Gray{Bool},2} with eltype Gray{Bool}:\n Gray{Bool}(false)  Gray{Bool}(false)  …  Gray{Bool}(false)\n Gray{Bool}(false)  Gray{Bool}(false)     Gray{Bool}(false)\n Gray{Bool}(false)  Gray{Bool}(false)     Gray{Bool}(false)\n Gray{Bool}(false)  Gray{Bool}(false)     Gray{Bool}(false)\n Gray{Bool}(false)  Gray{Bool}(false)     Gray{Bool}(false)\n Gray{Bool}(false)  Gray{Bool}(false)  …  Gray{Bool}(false)\n Gray{Bool}(false)  Gray{Bool}(false)     Gray{Bool}(false)\n Gray{Bool}(false)  Gray{Bool}(false)     Gray{Bool}(false)\n Gray{Bool}(false)  Gray{Bool}(false)     Gray{Bool}(false)\n Gray{Bool}(false)  Gray{Bool}(false)     Gray{Bool}(false)\n Gray{Bool}(false)  Gray{Bool}(false)  …  Gray{Bool}(false)\n Gray{Bool}(false)  Gray{Bool}(false)     Gray{Bool}(false)\n Gray{Bool}(false)  Gray{Bool}(false)     Gray{Bool}(false)\n ⋮                                     ⋱  \n Gray{Bool}(false)  Gray{Bool}(false)     Gray{Bool}(false)\n Gray{Bool}(false)  Gray{Bool}(false)     Gray{Bool}(false)\n Gray{Bool}(false)  Gray{Bool}(false)     Gray{Bool}(false)\n Gray{Bool}(false)  Gray{Bool}(false)     Gray{Bool}(false)\n Gray{Bool}(false)  Gray{Bool}(false)  …  Gray{Bool}(false)\n Gray{Bool}(false)  Gray{Bool}(false)     Gray{Bool}(false)\n Gray{Bool}(false)  Gray{Bool}(false)     Gray{Bool}(false)\n Gray{Bool}(false)  Gray{Bool}(false)     Gray{Bool}(false)\n Gray{Bool}(false)  Gray{Bool}(false)     Gray{Bool}(false)\n Gray{Bool}(false)  Gray{Bool}(false)  …  Gray{Bool}(false)\n Gray{Bool}(false)  Gray{Bool}(false)     Gray{Bool}(false)\n Gray{Bool}(false)  Gray{Bool}(false)     Gray{Bool}(false)",
      "image/png": "[encoded data removed]"
     },
     "metadata": {},
     "execution_count": 22
    }
   ],
   "source": [
    "sample"
   ]
  },
  {
   "cell_type": "code",
   "execution_count": 24,
   "metadata": {},
   "outputs": [],
   "source": [
    "save(\"sample.png\", sample)"
   ]
  },
  {
   "cell_type": "code",
   "execution_count": null,
   "metadata": {},
   "outputs": [],
   "source": []
  }
 ]
}