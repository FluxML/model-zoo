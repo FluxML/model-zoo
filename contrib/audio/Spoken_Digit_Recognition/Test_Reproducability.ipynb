{
 "cells": [
  {
   "cell_type": "markdown",
   "metadata": {},
   "source": [
    "# Testing Model Reproducibility\n",
    "Test whether the results are reproducible or not using the same dataset and trained model weights"
   ]
  },
  {
   "cell_type": "code",
   "execution_count": 16,
   "metadata": {},
   "outputs": [],
   "source": [
    "using DSP,WAV\n",
    "using PyCall\n",
    "using PyPlot\n",
    "using MFCC\n",
    "using FFTW\n",
    "using Flux\n",
    "using Printf,BSON\n",
    "using Flux: onehotbatch, onecold, crossentropy, throttle, Conv,relu\n",
    "using Base.Iterators: partition\n",
    "using StatsBase\n",
    "using MLLabelUtils,MLDataPattern\n",
    "IpY = pyimport(\"IPython\")\n",
    "using Images,MLBase\n"
   ]
  },
  {
   "cell_type": "markdown",
   "metadata": {},
   "source": [
    "## Loading the data\n",
    "We will be testing our model on the same dataset. Thouh different audio data can also be tried "
   ]
  },
  {
   "cell_type": "code",
   "execution_count": 2,
   "metadata": {},
   "outputs": [],
   "source": [
    "cd(\"./Downloads\")   # Or the path of folder containing the dataset Folder(Spoken_Digit) after extraction\n",
    "A = readdir(\"./Spoken_Digit/recordings\")\n",
    "cd(\"./Spoken_Digit/recordings\")\n",
    "X = []\n",
    "X_fs = []\n",
    "Y = []\n",
    "for i in 1:length(A)\n",
    "    s,fs = wavread(A[i])\n",
    "    push!(X,s)\n",
    "    push!(X_fs,fs)\n",
    "    push!(Y,Int(A[i][1]-'0'))\n",
    "end\n",
    "cd(\"./../../\")"
   ]
  },
  {
   "cell_type": "markdown",
   "metadata": {},
   "source": [
    "## Data Preprocessing\n",
    "Similar to training data we will change audio files to spectrogram, normalise the data and then use that as test set. "
   ]
  },
  {
   "cell_type": "code",
   "execution_count": 3,
   "metadata": {},
   "outputs": [],
   "source": [
    "imgs = []\n",
    "for i in 1:length(X)\n",
    "    b = spectrogram(X[i][:,1])\n",
    "    push!(imgs,b.power)\n",
    "end\n",
    "labels = Y;\n",
    "for i in 1:length(imgs)\n",
    "    imgs[i] = Flux.normalise(imgs[i],dims=2)\n",
    "end\n",
    "\n",
    "imgs_,labels_ = shuffleobs((imgs,labels));"
   ]
  },
  {
   "cell_type": "markdown",
   "metadata": {},
   "source": [
    "Loading the complete data as a single minibatch to test the model performance on the data as a whole"
   ]
  },
  {
   "cell_type": "code",
   "execution_count": 4,
   "metadata": {},
   "outputs": [
    {
     "data": {
      "text/plain": [
       "make_minibatch (generic function with 1 method)"
      ]
     },
     "execution_count": 4,
     "metadata": {},
     "output_type": "execute_result"
    }
   ],
   "source": [
    "img_size = (256,32)\n",
    "m,n = img_size\n",
    "\n",
    "function make_minibatch(X,Y,idxs)\n",
    "    X_batch = Array{Float32}(undef,(img_size)..., 1, length(idxs))\n",
    "    for i in 1:length(idxs)\n",
    "        img = Float32.(imresize((X[idxs[i]]),(img_size)...))\n",
    "        X_batch[:, :, :, i] = img\n",
    "    end\n",
    "    Y_batch = onehotbatch(Y[idxs], 0:9)\n",
    "    return (X_batch, Y_batch)\n",
    "end"
   ]
  },
  {
   "cell_type": "markdown",
   "metadata": {},
   "source": [
    "Take any random small chunk from the dataset for testing"
   ]
  },
  {
   "cell_type": "code",
   "execution_count": 9,
   "metadata": {},
   "outputs": [],
   "source": [
    "mb_indices = [] \n",
    "ind = []\n",
    "for i in 500:800\n",
    "    push!(ind,i)\n",
    "end\n",
    "test_set = [make_minibatch(imgs_,labels_,ind)];"
   ]
  },
  {
   "cell_type": "code",
   "execution_count": 10,
   "metadata": {},
   "outputs": [
    {
     "data": {
      "text/plain": [
       "accuracy (generic function with 1 method)"
      ]
     },
     "execution_count": 10,
     "metadata": {},
     "output_type": "execute_result"
    }
   ],
   "source": [
    "accuracy(x, y) = mean(onecold(model(x)) .== onecold(y))"
   ]
  },
  {
   "cell_type": "markdown",
   "metadata": {},
   "source": [
    "## Model Performance Testing of Trained Model"
   ]
  },
  {
   "cell_type": "code",
   "execution_count": 7,
   "metadata": {},
   "outputs": [],
   "source": [
    "#Model evaluation on Training Data\n",
    "BSON.@load \"./MNIST_Speech.bson\" model\n"
   ]
  },
  {
   "cell_type": "code",
   "execution_count": 11,
   "metadata": {},
   "outputs": [
    {
     "data": {
      "text/plain": [
       "0.9833887043189369"
      ]
     },
     "execution_count": 11,
     "metadata": {},
     "output_type": "execute_result"
    }
   ],
   "source": [
    "accuracy(test_set[1]...)"
   ]
  },
  {
   "cell_type": "code",
   "execution_count": 12,
   "metadata": {},
   "outputs": [
    {
     "data": {
      "text/plain": [
       "10×301 Array{Float32,2}:\n",
       " 3.8437e-13   1.91665e-9   1.57188e-7   …  1.43238e-6   2.79504e-8 \n",
       " 4.82582e-9   0.999623     0.000236523     2.06655e-8   0.000121791\n",
       " 4.39358e-7   5.5426e-9    0.000238135     0.000882037  0.00011656 \n",
       " 3.30992e-11  7.50751e-9   6.39884e-6      2.86941e-5   3.69492e-5 \n",
       " 0.999999     1.28694e-6   0.995579        0.000281947  0.999325   \n",
       " 9.67511e-7   8.0464e-5    0.00353203   …  8.95394e-9   0.000340723\n",
       " 3.90226e-10  1.40138e-9   0.000303763     0.998564     5.52701e-5 \n",
       " 4.46966e-11  7.38176e-8   2.74527e-5      8.30553e-8   2.76701e-6 \n",
       " 2.86833e-11  1.60256e-9   6.0581e-5       0.000241771  8.11351e-8 \n",
       " 2.36902e-11  0.000294738  1.61166e-5      3.64062e-10  6.61961e-7 "
      ]
     },
     "execution_count": 12,
     "metadata": {},
     "output_type": "execute_result"
    }
   ],
   "source": [
    "y_label = model(test_set[1][1])"
   ]
  },
  {
   "cell_type": "markdown",
   "metadata": {},
   "source": [
    "Confusion Matrix:"
   ]
  },
  {
   "cell_type": "code",
   "execution_count": 29,
   "metadata": {},
   "outputs": [
    {
     "data": {
      "text/plain": [
       "10×10 Array{Int64,2}:\n",
       " 28   0   0   0   0   0   0   0   0   0\n",
       "  0  32   0   0   0   0   0   0   0   0\n",
       "  0   0  24   0   0   0   0   0   0   0\n",
       "  0   0   0  27   0   0   0   0   0   0\n",
       "  0   0   0   0  35   0   0   0   0   0\n",
       "  0   0   0   0   0  28   0   0   0   1\n",
       "  0   0   0   0   0   0  26   0   0   0\n",
       "  0   0   0   0   0   0   0  27   0   0\n",
       "  0   0   0   1   1   0   1   0  32   0\n",
       "  0   0   0   0   0   0   0   1   0  37"
      ]
     },
     "execution_count": 29,
     "metadata": {},
     "output_type": "execute_result"
    }
   ],
   "source": [
    "y_true = onecold(test_set[1][2])\n",
    "y_pred = onecold(y_label)\n",
    "\n",
    "MLBase.confusmat(10,y_true,y_pred)"
   ]
  },
  {
   "cell_type": "code",
   "execution_count": null,
   "metadata": {},
   "outputs": [],
   "source": []
  }
 ],
 "metadata": {
  "accelerator": "GPU",
  "colab": {
   "name": "Untitled.ipynb",
   "provenance": [],
   "version": "0.3.2"
  },
  "kernelspec": {
   "display_name": "Julia 1.3.1",
   "language": "julia",
   "name": "julia-1.3"
  },
  "language_info": {
   "file_extension": ".jl",
   "mimetype": "application/julia",
   "name": "julia",
   "version": "1.3.1"
  }
 },
 "nbformat": 4,
 "nbformat_minor": 1
}
